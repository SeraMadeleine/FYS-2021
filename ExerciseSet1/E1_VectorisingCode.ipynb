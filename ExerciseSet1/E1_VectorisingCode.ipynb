{
 "cells": [
  {
   "cell_type": "markdown",
   "id": "b39f1515",
   "metadata": {},
   "source": [
    "# Exercise Set 1 - Vectorizing Code\n",
    "\n",
    "This notebook contains the exercises from the PDF. Fill in your answers in the code cells provided."
   ]
  },
  {
   "cell_type": "markdown",
   "id": "49e99f69",
   "metadata": {},
   "source": [
    "# Problem 1\n",
    "\n",
    "We ask the students to use Python as the programming language for this course. This is the standard language used for Machine Learning"
   ]
  },
  {
   "cell_type": "markdown",
   "id": "da274e06",
   "metadata": {},
   "source": [
    "## Problem 1a\n",
    "\n",
    "Visit the following links to warm up with NumPy exercises:\n",
    "- https://www.w3resource.com/python-exercises/numpy/basic/index.php\n",
    "- https://www.w3resource.com/python-exercises/numpy/index-array.php\n",
    "- https://www.w3resource.com/python-exercises/numpy/linear-algebra/index.php\n",
    "- https://www.w3resource.com/python-exercises/numpy/python-numpy-stat.php\n",
    "\n",
    "This course assumes you have a fair knowledge of how numerical programming, (i.e. working with vectors and matrices programatically), works. In the following exercises, we will look at writing efficient, vectorised code. Assume that we have vectors:\n",
    "- $\\mathbf{a} \\in \\mathbb{R}^n$ with elements $\\mathbf{a} = [a_1, \\dots, a_n]^T$\n",
    "- $\\mathbf{b} \\in \\mathbb{R}^n$ with elements $\\mathbf{b} = [b_1, \\dots, b_n]^T$\n",
    "\n",
    "Further assume we have a matrix $\\mathbf{X} \\in \\mathbb{R}^{M \\times N}$\n",
    "\n",
    "$$\n",
    "\\mathbf{X} = \\begin{bmatrix}\n",
    "x_{11} & x_{12} & \\dots & x_{1N} \\\\\n",
    "\\vdots & \\vdots & \\ddots & \\vdots \\\\\n",
    "x_{M1} & x_{M2} & \\dots & x_{MN}\n",
    "\\end{bmatrix}\n",
    "$$\n",
    "\n",
    "The result vector is $\\mathbf{y}$ which takes its dimensionality based on the problem.\n",
    "\n",
    "In all problems, you should assume that the dimensions of the vectors and matrices involved are such that the matrix multiplications (and inner products) are valid. Note that e.g. $\\mathbf{y} += k$ is the same as $\\mathbf{y} = \\mathbf{y} + k$."
   ]
  },
  {
   "cell_type": "markdown",
   "id": "cce92e6a",
   "metadata": {},
   "source": [
    "## Problem 1b\n",
    "\n",
    "Write the following sum as a mathematical vector operation:\n",
    "\n",
    "$$ y = \\sum_{i=1}^{n} a_i b_i $$"
   ]
  },
  {
   "cell_type": "markdown",
   "id": "9b2a5646",
   "metadata": {},
   "source": [
    "The sum of the dot product of two vectors (a and b) can be written in vectorform as $$ y = a^Tb $$\n",
    "\n",
    "Where: \n",
    "- $a^T$ is the transpose of vector a \n",
    "- $b$ is the vector with elements $b_1,b_2,…,b_nb_1​,b_2​,…,b$\n",
    "- $y$ is the scalar result of the dot product \n"
   ]
  },
  {
   "cell_type": "code",
   "execution_count": 1,
   "id": "eff25d44",
   "metadata": {},
   "outputs": [
    {
     "name": "stdout",
     "output_type": "stream",
     "text": [
      "The dot product of a and b is: 32\n"
     ]
    }
   ],
   "source": [
    "# Can use Numpy to solve this problem \n",
    "import numpy as np\n",
    "\n",
    "# Assuming a and b are numpy arrays \n",
    "a = np.array([1, 2, 3])                # a = np.array([a1, a2, ...., an])\n",
    "b = np.array([4, 5, 6])                # b = np.array([b1, b2, ...., bn])\n",
    "\n",
    "# Calculate the dot product of a and b\n",
    "dot_product = np.dot(a, b)             # can also use sum(a*b)\n",
    "print(f'The dot product of a and b is: {dot_product}')"
   ]
  },
  {
   "cell_type": "markdown",
   "id": "d2f10baf",
   "metadata": {},
   "source": [
    "## Problem 1c\n",
    "\n",
    "Write this **for** loop as a mathematical vector operation and as vectorised code. \n",
    "\n",
    "```\n",
    "for i=1,. . .,n:\n",
    "    y+=a_i * b_i\n",
    "```\n",
    "\n",
    "Mathematical vector operation:\n",
    "\n",
    "$$ y = \\mathbf{a}^T \\mathbf{b} $$"
   ]
  },
  {
   "cell_type": "code",
   "execution_count": 2,
   "id": "6e457eb5",
   "metadata": {},
   "outputs": [
    {
     "name": "stdout",
     "output_type": "stream",
     "text": [
      "The vector a is [1 1 5]\n",
      "The vector b is [6 8 0]\n",
      "The dot product of a and b is 14\n"
     ]
    }
   ],
   "source": [
    "import numpy as np\n",
    "n = 3\n",
    "\n",
    "# Generate random arrays a and b of size n from 0 to 10\n",
    "a = np.random.randint(0, 10, n)\n",
    "b = np.random.randint(0, 10, n)\n",
    "\n",
    "# The dot product of a and b \n",
    "y = np.dot(a, b)\n",
    "\n",
    "print(f'The vector a is {a}')\n",
    "print(f'The vector b is {b}')\n",
    "print(f'The dot product of a and b is {y}')"
   ]
  },
  {
   "cell_type": "markdown",
   "id": "1ae96c58",
   "metadata": {},
   "source": [
    "## Problem 1d\n",
    "\n",
    "Write this **for** loop as a mathematical vector operation and vectorised code (assume N = n)\n",
    "```\n",
    "for i=1,. . .,M:\n",
    "    for k=1,. . .,n:\n",
    "        y_i += x_{ik} * a_k\n",
    "```"
   ]
  },
  {
   "cell_type": "code",
   "execution_count": 3,
   "id": "fe8cf0bf",
   "metadata": {},
   "outputs": [
    {
     "name": "stdout",
     "output_type": "stream",
     "text": [
      "The matrix x is \n",
      "[[8 1]\n",
      " [8 4]]\n",
      "The vector a is [0 5]\n",
      "The matrix vector product of x and a is [ 5 20]\n"
     ]
    }
   ],
   "source": [
    "import numpy as np\n",
    "m = 2       # num rows in matrix\n",
    "n = 2       # size of vectors and num columns in matrix       \n",
    "\n",
    "# Generate random arrays a and b of size n from 0 to 10\n",
    "x = np.random.randint(0, 10, (m, n))\n",
    "a = np.random.randint(0, 10, n)\n",
    "\n",
    "# The vector matrix product of x and a \n",
    "y = np.dot(x, a)\n",
    "\n",
    "print (f'The matrix x is \\n{x}')\n",
    "print (f'The vector a is {a}')\n",
    "print (f'The matrix vector product of x and a is {y}')"
   ]
  },
  {
   "cell_type": "markdown",
   "id": "72aaa499",
   "metadata": {},
   "source": [
    "## Problem 1e\n",
    "\n",
    "Vectorise the following algorithm (answer with code). This shouldn’t be done with traditional matrix multiplications alone\n",
    "```\n",
    "for i=1,. . .,M:\n",
    "    for k=1,. . .,n:\n",
    "        y += x_{ik} * a_k\n",
    "```"
   ]
  },
  {
   "cell_type": "code",
   "execution_count": 4,
   "id": "96a69101",
   "metadata": {},
   "outputs": [
    {
     "name": "stdout",
     "output_type": "stream",
     "text": [
      "The matrix x is \n",
      "[[8 4]\n",
      " [0 3]]\n",
      "The vector a is [0 6]\n",
      "The matrix vector product of x and a is 42\n"
     ]
    }
   ],
   "source": [
    "import numpy as np\n",
    "m = 2       # num rows in matrix\n",
    "n = 2       # size of vectors and num columns in matrix       \n",
    "\n",
    "# Generate random arrays a and b of size n from 0 to 10\n",
    "x = np.random.randint(0, 10, (m, n))\n",
    "a = np.random.randint(0, 10, n)\n",
    "\n",
    "# The vector matrix product of x and a \n",
    "y = np.sum(x * a)\n",
    "\n",
    "print (f'The matrix x is \\n{x}')\n",
    "print (f'The vector a is {a}')\n",
    "print (f'The matrix vector product of x and a is {y}')"
   ]
  },
  {
   "cell_type": "markdown",
   "id": "2a97a994",
   "metadata": {},
   "source": [
    "## Problem 1f\n",
    "\n",
    "Let $\\mathbf{Z} \\in \\mathbb{R}^{P \\times M}$ and $z_{ij} \\in \\mathbf{Z}$ be the entry in row $i$ and column $j$.\n",
    "\n",
    "Vectorize the following algorithm:\n",
    "\n",
    "```\n",
    "for j=1,. . .,N:\n",
    "    for i=1,. . .,P:\n",
    "        for k=1,. . .,M:\n",
    "            y_{ij} += z_{ik} * x_{kj}\n",
    "```\n",
    "\n",
    "Hint: Consider how to express the sum as a matrix multiplication."
   ]
  },
  {
   "cell_type": "code",
   "execution_count": 5,
   "id": "b6ddf939",
   "metadata": {},
   "outputs": [
    {
     "name": "stdout",
     "output_type": "stream",
     "text": [
      "The matrix x is \n",
      " [[3 7]\n",
      " [1 6]]\n",
      "The  matrix z is \n",
      " [[4 9]\n",
      " [5 9]]\n",
      "The matrix vector product of x and a is \n",
      " [[21 82]\n",
      " [24 89]]\n"
     ]
    }
   ],
   "source": [
    "import numpy as np\n",
    "m = 2       # num collums in Z and rows in X\n",
    "p = 2       # num rows in Z and rows in the result of y \n",
    "n = 2       # num columns in X and columns in the result of Z\n",
    "\n",
    "# Generate random arrays a and b of size n from 0 to 10\n",
    "z = np.random.randint(0, 10, (p, m))\n",
    "x = np.random.randint(0, 10, (m, n))\n",
    "\n",
    "# The vector matrix product of x and a \n",
    "y = np.dot(z, x)\n",
    "\n",
    "print (f'The matrix x is \\n {x}')\n",
    "print (f'The  matrix z is \\n {z}')\n",
    "print (f'The matrix vector product of x and a is \\n {y}')"
   ]
  },
  {
   "cell_type": "markdown",
   "id": "bcf95d76",
   "metadata": {},
   "source": [
    "## Problem 1g\n",
    "\n",
    "**NB: This part problem has different notation!**\n",
    "\n",
    "Suppose you have a dataset with \\(N\\) samples and \\(n\\) features:\n",
    "\n",
    "$$\n",
    "\\mathbf{x}_1, \\dots, \\mathbf{x}_N, \\mathbf{x}_i = [x_{i1}, \\dots, x_{in}] \\in \\mathbb{R}^n\n",
    "$$\n",
    "\n",
    "Similarly, you have parameter vectors $\\mathbf{w}_1, \\dots, \\mathbf{w}_P, \\mathbf{w} $ in $\\mathbb{R}^n$ and $(\\mathbf{a} \\in \\mathbb{R}^P)$.\n",
    "\n",
    "Implement an algorithm, for every single sample $(\\mathbf{x}_j = [x_{j1}, \\dots, x_{jn}])$ in the dataset, that calculates:\n",
    "\n",
    "$$\n",
    "v_i = \\sum_{k=1}^{n} w_{ik} x_{jk}\n",
    "$$\n",
    "\n",
    "$$\n",
    "y_j = \\sum_{i=1}^{P} v_i a_i\n",
    "$$\n",
    "\n",
    "Vectorize these expressions. You want to end up with a vector $(\\mathbf{y} \\in \\mathbb{R}^N)$.\n"
   ]
  },
  {
   "cell_type": "markdown",
   "id": "37da1617",
   "metadata": {},
   "source": [
    "### Answer\n",
    "\n",
    "Have a dataset with N samples and n features. X is a N × n matrix where each row $w_j$ is a sample with n features. We also have\n",
    "\n",
    "-  a parameter vector $w_1, ..., w_p$ where each $w_i\" is a vector $R^n$ \n",
    "- a vector a in $R^P$\n",
    "\n",
    "for each sample $x_j$ in the dataset, we compute \n",
    "$$ \n",
    "v_i = \\sum^n_{k=1} w_{ik}x{jk} \\\\\n",
    "y_j = \\sum^P_{i=1} v_{i}a{i} \n",
    "$$\n",
    "\n",
    "### Solution (the vectorized expression)\n",
    "1. Compute V\n",
    "    - V can be calculated as $XW^T$ where W is a $P×n$ matrix with $w_1,.....,w_P$ as rows \n",
    "    - This gives us a $N×P$ matrix V where each column i is represented by the result of $v_i$ for all samples \n",
    "2. Calculate y\n",
    "    - y can be computed by multiplying V with vector a, in such a way that each row in C must be multiplied with a and the results are summed up and forms y. "
   ]
  },
  {
   "cell_type": "code",
   "execution_count": 2,
   "id": "11c986f8",
   "metadata": {},
   "outputs": [
    {
     "name": "stdout",
     "output_type": "stream",
     "text": [
      "Dataset X is \n",
      "[[0.97463821 0.55974056 0.79176485]\n",
      " [0.12563745 0.02620869 0.55691325]\n",
      " [0.50616596 0.41727845 0.55131723]\n",
      " [0.27645441 0.88266256 0.5808705 ]]\n",
      "Parameter vectors W is \n",
      "[[0.74617065 0.68310503 0.95462692]\n",
      " [0.49688177 0.65882913 0.62180522]]\n",
      "The transpose of W is \n",
      "[[0.74617065 0.49688177]\n",
      " [0.68310503 0.65882913]\n",
      " [0.95462692 0.62180522]]\n",
      "Vector a is [0.41817971 0.44911054]\n",
      "Matrix V is \n",
      "[[1.86544806 1.34537686]\n",
      " [0.64329465 0.42598557]\n",
      " [1.18903346 0.86923176]\n",
      " [1.36374802 1.08007727]]\n",
      "Vector y is [1.38431546 0.46032738 0.88761081 1.05536584]\n"
     ]
    }
   ],
   "source": [
    "import numpy as np\n",
    "N = 4       # num of samples \n",
    "n = 3       # num of features per sample \n",
    "P = 2       # num of parameter vectors\n",
    "\n",
    "\n",
    "# Random choosen values for the data and parameters\n",
    "X = np.random.rand(N, n)  # Datasett\n",
    "W = np.random.rand(P, n)  # Parametervektorer\n",
    "a = np.random.rand(P)     # Vektor a\n",
    "\n",
    "# Compute matrix V as X times the transpose of W\n",
    "V = np.dot(X, W.T)\n",
    "\n",
    "# Compute vector y as the product of V and a\n",
    "y = np.dot(V, a)\n",
    "\n",
    "print(f'Dataset X is \\n{X}')\n",
    "print(f'Parameter vectors W is \\n{W}')\n",
    "print(f'The transpose of W is \\n{W.T}')\n",
    "print(f'Vector a is {a}')\n",
    "print(f'Matrix V is \\n{V}')\n",
    "print(f'Vector y is {y}')\n"
   ]
  },
  {
   "cell_type": "markdown",
   "id": "b6f6801a",
   "metadata": {},
   "source": [
    "## Problem 1h (Bonus)\n",
    "\n",
    "Implement an algorithm that does matrix multiplication (without using built-in matrix multiplication functions).\n"
   ]
  },
  {
   "cell_type": "code",
   "execution_count": 11,
   "id": "66b7d738",
   "metadata": {},
   "outputs": [
    {
     "name": "stdout",
     "output_type": "stream",
     "text": [
      "Matrix A is \n",
      "[[1 8 2 2]\n",
      " [9 5 7 9]\n",
      " [9 7 7 0]]\n",
      "Matrix B is \n",
      "[[0 9]\n",
      " [7 7]\n",
      " [9 8]\n",
      " [1 0]]\n",
      "Result matrix C is \n",
      "[[ 76.  81.]\n",
      " [107. 172.]\n",
      " [112. 186.]]\n"
     ]
    }
   ],
   "source": [
    "import numpy as np\n",
    "\n",
    "M, N, P = 3, 4, 2       # dimensions of the matrices (A and B)\n",
    "\n",
    "# Random matrices A (M x N) and B (N x P) \n",
    "A = np.random.randint(0, 10, (M, N))\n",
    "B = np.random.randint(0, 10, (N, P))\n",
    "\n",
    "# A result matrix C (M x P) filled with zeros\n",
    "C = np.zeros((M, P))\n",
    "\n",
    "# Implement matrix multiplication without using numpy.dot\n",
    "for i in range(M):\n",
    "    for j in range(P):\n",
    "        for k in range(N):\n",
    "            C[i, j] += A[i, k] * B[k, j]\n",
    "\n",
    "print(f'Matrix A is \\n{A}')\n",
    "print(f'Matrix B is \\n{B}')\n",
    "print(f'Result matrix C is \\n{C}')\n"
   ]
  },
  {
   "cell_type": "markdown",
   "id": "496ee630",
   "metadata": {},
   "source": [
    "## Problem 1i (Bonus)\n",
    "\n",
    "Show that for any matrix $\\mathbf{A}$ the product $\\mathbf{A}^T \\mathbf{A}$ is symmetric."
   ]
  },
  {
   "cell_type": "markdown",
   "id": "ce2442d1",
   "metadata": {},
   "source": []
  },
  {
   "cell_type": "markdown",
   "id": "b6c8c352",
   "metadata": {},
   "source": [
    "## Problem 1j (Bonus)\n",
    "\n",
    "Implement an algorithm that calculates $\\mathbf{A}^T \\mathbf{A}$ using the property of symmetry. Generate a huge matrix $\\mathbf{A}$ and compare the running time between the implementation you did in 1h and the built-in matrix multiplication function."
   ]
  },
  {
   "cell_type": "code",
   "execution_count": 31,
   "id": "a785ecda",
   "metadata": {},
   "outputs": [
    {
     "name": "stdout",
     "output_type": "stream",
     "text": [
      "A^T A calculated manually: \n",
      "[[2 1]\n",
      " [1 1]]\n",
      "Time taken for manual calculation: 0.00016808509826660156\n",
      "A^T A calculated with built-in functions: \n",
      "[[2 1]\n",
      " [1 1]]\n",
      "Time taken for built-in calculation: 0.0001537799835205078\n"
     ]
    }
   ],
   "source": [
    "import numpy as np\n",
    "import time\n",
    "\n",
    "M, N = 2,2\n",
    "A = np.random.randint(0,2, (M,N))\n",
    "\n",
    "# Calculate A^T A manually \n",
    "start_time = time.time()\n",
    "AT_A_manual = np.dot(A.T, A)\n",
    "manual_time = time.time() - start_time\n",
    "\n",
    "# Calculate A^T A with built-in functions\n",
    "start_time = time.time()\n",
    "AT_A_builtin = A.T @ A\n",
    "builtin_time = time.time() - start_time\n",
    "\n",
    "print(f'A^T A calculated manually: \\n{AT_A_manual}')\n",
    "print(f'Time taken for manual calculation: {manual_time}')\n",
    "print(f'A^T A calculated with built-in functions: \\n{AT_A_builtin}')\n",
    "print(f'Time taken for built-in calculation: {builtin_time}')\n"
   ]
  },
  {
   "cell_type": "markdown",
   "id": "58426970",
   "metadata": {},
   "source": [
    "## Problem 1k\n",
    "\n",
    "Why do vectorized (or matrix-based) computations hold an advantage over traditional 'for' loops in Python?"
   ]
  },
  {
   "cell_type": "markdown",
   "id": "3808747d",
   "metadata": {},
   "source": [
    "Vektoriserte beregninger og matriseoperasjoner utført gjennom biblioteker som NumPy har flere fordeler:\n",
    "\n",
    "- **Ytelse**: Bibliotekene er optimalisert for ytelse, med mange operasjoner implementert i lavnivåspråk som C og Fortran, som er raskere enn Python-løkker.\n",
    "- **Parallelisering**: Disse operasjonene kan utnytte vektoriseringsegenskaper i moderne CPUer som SIMD (Single Instruction, Multiple Data) instruksjoner, og kan også benytte seg av multi-tråding og GPU akselerasjon der det er støttet.\n",
    "- **Kodeklarhet**: Vektorisert kode er ofte mer lesbar og kortere, noe som gjør det lettere å vedlikeholde og feilsøke."
   ]
  },
  {
   "cell_type": "markdown",
   "id": "ea589a32",
   "metadata": {},
   "source": [
    "# Problem 2\n",
    "\n",
    "In this task, we’ll use the basics of Git to clone an existing repo from GitHub and push some of it onto our own repository on GitHub. This task assumes Git has been installed. This can be done here: [Getting Started with Git](https://git-scm.com/book/en/v2/Getting-Started-Installing-Git). \n",
    "\n",
    "This task might not present completely accurate information depending on how you’ve connected your computer to GitHub.\n",
    "\n",
    "For more information on how to set up GitHub with SSH, have a look at the official documentation: [Connecting to GitHub with SSH](https://docs.github.com/en/authentication/connecting-to-github-with-ssh).\n"
   ]
  },
  {
   "cell_type": "markdown",
   "id": "929a9aa0",
   "metadata": {},
   "source": [
    "## Problem 2a\n",
    "- First, make a folder called `GitTutorial` and navigate to this folder via a terminal.\n",
    "- While inside this folder, use the command `git init` to initialize a local repository in that folder.\n",
    "- Verify that a repository has been made by running `git status`."
   ]
  },
  {
   "cell_type": "markdown",
   "id": "e0b8fe31",
   "metadata": {},
   "source": [
    "-> skippet"
   ]
  },
  {
   "cell_type": "markdown",
   "id": "edc33445",
   "metadata": {},
   "source": [
    "## Problem 2b\n",
    "\n",
    "- Next, we’ll clone an existing repository from GitHub to your local repository. The repository we’ll clone is this: [FYS-2021](https://github.com/Seilmast/FYS-2021).\n",
    "- In the terminal, while still in the `GitTutorial` folder, use the `git clone` command and find the link on the GitHub page that references the online repository. This link is found by clicking the green \"Code\" button, and copying the HTTPS link. \n",
    "- This should now clone two files into your local repository."
   ]
  },
  {
   "cell_type": "code",
   "execution_count": 34,
   "id": "fc25f679",
   "metadata": {},
   "outputs": [],
   "source": [
    "# Command-line code here (no need to write anything in Python)"
   ]
  },
  {
   "cell_type": "markdown",
   "id": "f55f6af6",
   "metadata": {},
   "source": [
    "## Problem 2c\n",
    "\n",
    "Now you should have two files locally on your computer: `UploadThis.txt` and `DoNotUploadThis.txt`.\n",
    "   - We’ll first upload both these files to your remote repository. Follow these steps:\n",
    "     1. Go to your GitHub account and make a new repository. When you’ve made one, there should be a link to set up the remote connection. If not, find the SSH link under the big green \"Code\" button.\n",
    "     2. In your terminal, use the command `git remote <name> <link>` to link your remote and local repository. You can define the `<name>` yourself; it’ll be used to refer to the remote connection. The `<link>` should be the SSH link.\n",
    "     3. Next, push `UploadThis.txt` to your repository. First, use `git add <file>` to prepare the files to be pushed. You may use `git add .` to add all files in the folder, but for now, just add the one file manually.\n",
    "     4. Use `git commit -m <commit message>` to commit all the added files to be pushed. The `<commit message>` can be any string, but good form is to give a brief explanation of the changes made with the given commit.\n",
    "     5. Lastly, use `git push <name>` (where `<name>` is the remote name you defined earlier) to push the commit to GitHub. Both files should now be on your repository."
   ]
  },
  {
   "cell_type": "code",
   "execution_count": 35,
   "id": "5089603c",
   "metadata": {},
   "outputs": [],
   "source": [
    "# Command-line code here (no need to write anything in Python)"
   ]
  },
  {
   "cell_type": "markdown",
   "id": "a6860033",
   "metadata": {},
   "source": [
    "## Problem 2d\n",
    "\n",
    "Create a `.gitignore` file and add `DoNotUploadThis.txt` to it, then push the changes to your repository."
   ]
  },
  {
   "cell_type": "code",
   "execution_count": 36,
   "id": "7fc4ab70",
   "metadata": {},
   "outputs": [],
   "source": [
    "# Command-line code here (no need to write anything in Python)"
   ]
  },
  {
   "cell_type": "markdown",
   "id": "9a3c6988",
   "metadata": {},
   "source": [
    "# Problem 3\n",
    "\n",
    "\n",
    "Follow the notebook: https://github.com/udlbook/udlbook/blob/main/Notebooks/Chap01/1_1_BackgroundMathematics.ipynb. \n",
    "\n",
    "This is a complementary notebook for working with matrices and it prepares you for the next step when we see linear regression"
   ]
  },
  {
   "cell_type": "markdown",
   "id": "4affdf87",
   "metadata": {},
   "source": [
    "# Problem 4\n",
    "\n",
    "Follow the notebook: https://github.com/uitml/MLCourse2023/blob/main/code/NotebookTutorial.ipynb and try to understand each step. This is a simple notebook to refresh your Python skills about arrays and plotting."
   ]
  }
 ],
 "metadata": {
  "kernelspec": {
   "display_name": "Python 3",
   "language": "python",
   "name": "python3"
  },
  "language_info": {
   "codemirror_mode": {
    "name": "ipython",
    "version": 3
   },
   "file_extension": ".py",
   "mimetype": "text/x-python",
   "name": "python",
   "nbconvert_exporter": "python",
   "pygments_lexer": "ipython3",
   "version": "3.12.5"
  }
 },
 "nbformat": 4,
 "nbformat_minor": 5
}
