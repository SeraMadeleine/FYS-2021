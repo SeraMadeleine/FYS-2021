{
 "cells": [
  {
   "cell_type": "markdown",
   "id": "b39f1515",
   "metadata": {},
   "source": [
    "# Exercise Set 1 - Vectorizing Code\n",
    "\n",
    "This notebook contains the exercises from the PDF. Fill in your answers in the code cells provided."
   ]
  },
  {
   "cell_type": "markdown",
   "id": "49e99f69",
   "metadata": {},
   "source": [
    "# Problem 1\n",
    "\n",
    "We ask the students to use Python as the programming language for this course. This is the standard language used for Machine Learning"
   ]
  },
  {
   "cell_type": "markdown",
   "id": "da274e06",
   "metadata": {},
   "source": [
    "## Problem 1a\n",
    "\n",
    "Visit the following links to warm up with NumPy exercises:\n",
    "- https://www.w3resource.com/python-exercises/numpy/basic/index.php\n",
    "- https://www.w3resource.com/python-exercises/numpy/index-array.php\n",
    "- https://www.w3resource.com/python-exercises/numpy/linear-algebra/index.php\n",
    "- https://www.w3resource.com/python-exercises/numpy/python-numpy-stat.php\n",
    "\n",
    "This course assumes you have a fair knowledge of how numerical programming, (i.e. working with vectors and matrices programatically), works. In the following exercises, we will look at writing efficient, vectorised code. Assume that we have vectors:\n",
    "- $\\mathbf{a} \\in \\mathbb{R}^n$ with elements $\\mathbf{a} = [a_1, \\dots, a_n]^T$\n",
    "- $\\mathbf{b} \\in \\mathbb{R}^n$ with elements $\\mathbf{b} = [b_1, \\dots, b_n]^T$\n",
    "\n",
    "Further assume we have a matrix $\\mathbf{X} \\in \\mathbb{R}^{M \\times N}$\n",
    "\n",
    "$$\n",
    "\\mathbf{X} = \\begin{bmatrix}\n",
    "x_{11} & x_{12} & \\dots & x_{1N} \\\\\n",
    "\\vdots & \\vdots & \\ddots & \\vdots \\\\\n",
    "x_{M1} & x_{M2} & \\dots & x_{MN}\n",
    "\\end{bmatrix}\n",
    "$$\n",
    "\n",
    "The result vector is $\\mathbf{y}$ which takes its dimensionality based on the problem.\n",
    "\n",
    "In all problems, you should assume that the dimensions of the vectors and matrices involved are such that the matrix multiplications (and inner products) are valid. Note that e.g. $\\mathbf{y} += k$ is the same as $\\mathbf{y} = \\mathbf{y} + k$."
   ]
  },
  {
   "cell_type": "markdown",
   "id": "cce92e6a",
   "metadata": {},
   "source": [
    "## Problem 1b\n",
    "\n",
    "Write the following sum as a mathematical vector operation:\n",
    "\n",
    "$$ y = \\sum_{i=1}^{n} a_i b_i $$"
   ]
  },
  {
   "cell_type": "markdown",
   "id": "9b2a5646",
   "metadata": {},
   "source": [
    "The sum of the dot product of two vectors (a and b) can be written in vectorform as $$ y = a^Tb $$\n",
    "\n",
    "Where: \n",
    "- $a^T$ is the transpose of vector a \n",
    "- $b$ is the vector with elements $b_1,b_2,…,b_nb_1​,b_2​,…,b$\n",
    "- $y$ is the scalar result of the dot product \n"
   ]
  },
  {
   "cell_type": "code",
   "execution_count": 16,
   "id": "eff25d44",
   "metadata": {},
   "outputs": [
    {
     "name": "stdout",
     "output_type": "stream",
     "text": [
      "The dot product of a and b is: 32\n"
     ]
    }
   ],
   "source": [
    "# Can use Numpy to solve this problem \n",
    "import numpy as np\n",
    "\n",
    "# Assuming a and b are numpy arrays \n",
    "a = np.array([1, 2, 3])                # a = np.array([a1, a2, ...., an])\n",
    "b = np.array([4, 5, 6])                # b = np.array([b1, b2, ...., bn])\n",
    "\n",
    "# Calculate the dot product of a and b\n",
    "dot_product = np.dot(a, b)             # can also use sum(a*b)\n",
    "print(f'The dot product of a and b is: {dot_product}')"
   ]
  },
  {
   "cell_type": "markdown",
   "id": "d2f10baf",
   "metadata": {},
   "source": [
    "## Problem 1c\n",
    "\n",
    "Write this **for** loop as a mathematical vector operation and as vectorised code. \n",
    "\n",
    "```\n",
    "for i=1,. . .,n:\n",
    "    y+=a_i * b_i\n",
    "```\n",
    "\n",
    "Mathematical vector operation:\n",
    "\n",
    "$$ y = \\mathbf{a}^T \\mathbf{b} $$"
   ]
  },
  {
   "cell_type": "code",
   "execution_count": 131,
   "id": "6e457eb5",
   "metadata": {},
   "outputs": [
    {
     "name": "stdout",
     "output_type": "stream",
     "text": [
      "The vector a is [6 1 6]\n",
      "The vector b is [1 9 7]\n",
      "The dot product of a and b is 57\n"
     ]
    }
   ],
   "source": [
    "import numpy as np\n",
    "n = 3\n",
    "\n",
    "# Generate random arrays a and b of size n from 0 to 10\n",
    "a = np.random.randint(0, 10, n)\n",
    "b = np.random.randint(0, 10, n)\n",
    "\n",
    "# The dot product of a and b \n",
    "y = np.dot(a, b)\n",
    "\n",
    "print(f'The vector a is {a}')\n",
    "print(f'The vector b is {b}')\n",
    "print(f'The dot product of a and b is {y}')"
   ]
  },
  {
   "cell_type": "markdown",
   "id": "1ae96c58",
   "metadata": {},
   "source": [
    "## Problem 1d\n",
    "\n",
    "Write this **for** loop as a mathematical vector operation and vectorised code (assume N = n)\n",
    "```\n",
    "for i=1,. . .,M:\n",
    "    for k=1,. . .,n:\n",
    "        y_i += x_{ik} * a_k\n",
    "```"
   ]
  },
  {
   "cell_type": "code",
   "execution_count": 132,
   "id": "fe8cf0bf",
   "metadata": {},
   "outputs": [
    {
     "name": "stdout",
     "output_type": "stream",
     "text": [
      "The matrix x is \n",
      "[[5 6]\n",
      " [7 0]]\n",
      "The vector a is [7 2]\n",
      "The matrix vector product of x and a is [47 49]\n"
     ]
    }
   ],
   "source": [
    "import numpy as np\n",
    "m = 2       # num rows in matrix\n",
    "n = 2       # size of vectors and num columns in matrix       \n",
    "\n",
    "# Generate random arrays a and b of size n from 0 to 10\n",
    "x = np.random.randint(0, 10, (m, n))\n",
    "a = np.random.randint(0, 10, n)\n",
    "\n",
    "# The vector matrix product of x and a \n",
    "y = np.dot(x, a)\n",
    "\n",
    "print (f'The matrix x is \\n{x}')\n",
    "print (f'The vector a is {a}')\n",
    "print (f'The matrix vector product of x and a is {y}')"
   ]
  },
  {
   "cell_type": "markdown",
   "id": "72aaa499",
   "metadata": {},
   "source": [
    "## Problem 1e\n",
    "\n",
    "Vectorise the following algorithm (answer with code). This shouldn’t be done with traditional matrix multiplications alone\n",
    "```\n",
    "for i=1,. . .,M:\n",
    "    for k=1,. . .,n:\n",
    "        y += x_{ik} * a_k\n",
    "```"
   ]
  },
  {
   "cell_type": "code",
   "execution_count": 145,
   "id": "96a69101",
   "metadata": {},
   "outputs": [
    {
     "name": "stdout",
     "output_type": "stream",
     "text": [
      "The matrix x is \n",
      "[[5 6]\n",
      " [2 4]]\n",
      "The vector a is [6 5]\n",
      "The matrix vector product of x and a is 92\n"
     ]
    }
   ],
   "source": [
    "import numpy as np\n",
    "m = 2       # num rows in matrix\n",
    "n = 2       # size of vectors and num columns in matrix       \n",
    "\n",
    "# Generate random arrays a and b of size n from 0 to 10\n",
    "x = np.random.randint(0, 10, (m, n))\n",
    "a = np.random.randint(0, 10, n)\n",
    "\n",
    "# The vector matrix product of x and a \n",
    "y = np.sum(x * a)\n",
    "\n",
    "print (f'The matrix x is \\n{x}')\n",
    "print (f'The vector a is {a}')\n",
    "print (f'The matrix vector product of x and a is {y}')"
   ]
  },
  {
   "cell_type": "markdown",
   "id": "2a97a994",
   "metadata": {},
   "source": [
    "## Problem 1f\n",
    "\n",
    "Let $\\mathbf{Z} \\in \\mathbb{R}^{P \\times M}$ and $z_{ij} \\in \\mathbf{Z}$ be the entry in row $i$ and column $j$.\n",
    "\n",
    "Vectorize the following algorithm:\n",
    "\n",
    "```\n",
    "for j=1,. . .,N:\n",
    "    for i=1,. . .,P:\n",
    "        for k=1,. . .,M:\n",
    "            y_{ij} += z_{ik} * x_{kj}\n",
    "```\n",
    "\n",
    "Hint: Consider how to express the sum as a matrix multiplication."
   ]
  },
  {
   "cell_type": "code",
   "execution_count": 176,
   "id": "b6ddf939",
   "metadata": {},
   "outputs": [
    {
     "name": "stdout",
     "output_type": "stream",
     "text": [
      "The matrix x is \n",
      " [[0 9]\n",
      " [8 7]]\n",
      "The  matrix z is \n",
      " [[9 5]\n",
      " [4 7]]\n",
      "The matrix vector product of x and a is \n",
      " [[ 40 116]\n",
      " [ 56  85]]\n"
     ]
    }
   ],
   "source": [
    "import numpy as np\n",
    "m = 2       # num collums in Z and rows in X\n",
    "p = 2       # num rows in Z and rows in the result of y \n",
    "n = 2       # num columns in X and columns in the result of Z\n",
    "\n",
    "# Generate random arrays a and b of size n from 0 to 10\n",
    "z = np.random.randint(0, 10, (p, m))\n",
    "x = np.random.randint(0, 10, (m, n))\n",
    "\n",
    "# The vector matrix product of x and a \n",
    "y = np.dot(z, x)\n",
    "\n",
    "print (f'The matrix x is \\n {x}')\n",
    "print (f'The  matrix z is \\n {z}')\n",
    "print (f'The matrix vector product of x and a is \\n {y}')"
   ]
  },
  {
   "cell_type": "markdown",
   "id": "bcf95d76",
   "metadata": {},
   "source": [
    "## Problem 1g\n",
    "\n",
    "**NB: This part problem has different notation!**\n",
    "\n",
    "Suppose you have a dataset with \\(N\\) samples and \\(n\\) features:\n",
    "\n",
    "$$\n",
    "\\mathbf{x}_1, \\dots, \\mathbf{x}_N, \\mathbf{x}_i = [x_{i1}, \\dots, x_{in}] \\in \\mathbb{R}^n\n",
    "$$\n",
    "\n",
    "Similarly, you have parameter vectors \\(\\mathbf{w}_1, \\dots, \\mathbf{w}_P, \\mathbf{w} \\in \\mathbb{R}^n\\) and \\(\\mathbf{a} \\in \\mathbb{R}^P\\).\n",
    "\n",
    "Implement an algorithm, for every single sample \\(\\mathbf{x}_j = [x_{j1}, \\dots, x_{jn}]\\) in the dataset, that calculates:\n",
    "\n",
    "$$\n",
    "v_i = \\sum_{k=1}^{n} w_{ik} x_{jk}\n",
    "$$\n",
    "\n",
    "$$\n",
    "y_j = \\sum_{i=1}^{P} v_i a_i\n",
    "$$\n",
    "\n",
    "Vectorize these expressions. You want to end up with a vector $(\\mathbf{y} \\in \\mathbb{R}^N)$.\n"
   ]
  },
  {
   "cell_type": "code",
   "execution_count": 177,
   "id": "11c986f8",
   "metadata": {},
   "outputs": [],
   "source": [
    "# Your code here"
   ]
  },
  {
   "cell_type": "markdown",
   "id": "b6f6801a",
   "metadata": {},
   "source": [
    "## Problem 1h (Bonus)\n",
    "\n",
    "Implement an algorithm that does matrix multiplication (without using built-in matrix multiplication functions)."
   ]
  },
  {
   "cell_type": "code",
   "execution_count": 178,
   "id": "66b7d738",
   "metadata": {},
   "outputs": [],
   "source": [
    "# Your code here"
   ]
  },
  {
   "cell_type": "markdown",
   "id": "496ee630",
   "metadata": {},
   "source": [
    "## Problem 1i (Bonus)\n",
    "\n",
    "Show that for any matrix $\\mathbf{A}$ the product $\\mathbf{A}^T \\mathbf{A}$ is symmetric."
   ]
  },
  {
   "cell_type": "code",
   "execution_count": 179,
   "id": "6f385549",
   "metadata": {},
   "outputs": [],
   "source": [
    "# Your code here"
   ]
  },
  {
   "cell_type": "markdown",
   "id": "b6c8c352",
   "metadata": {},
   "source": [
    "## Problem 1j (Bonus)\n",
    "\n",
    "Implement an algorithm that calculates $\\mathbf{A}^T \\mathbf{A}$ using the property of symmetry. Generate a huge matrix $\\mathbf{A}$ and compare the running time between the implementation you did in 1h and the built-in matrix multiplication function."
   ]
  },
  {
   "cell_type": "code",
   "execution_count": 180,
   "id": "a785ecda",
   "metadata": {},
   "outputs": [],
   "source": [
    "# Your code here"
   ]
  },
  {
   "cell_type": "markdown",
   "id": "58426970",
   "metadata": {},
   "source": [
    "## Problem 1k\n",
    "\n",
    "Why do vectorized (or matrix-based) computations hold an advantage over traditional 'for' loops in Python?"
   ]
  },
  {
   "cell_type": "code",
   "execution_count": 181,
   "id": "f6d5bf15",
   "metadata": {},
   "outputs": [],
   "source": [
    "# Your answer here"
   ]
  },
  {
   "cell_type": "markdown",
   "id": "ea589a32",
   "metadata": {},
   "source": [
    "# Problem 2\n",
    "\n",
    "In this task, we’ll use the basics of Git to clone an existing repo from GitHub and push some of it onto our own repository on GitHub. This task assumes Git has been installed. This can be done here: [Getting Started with Git](https://git-scm.com/book/en/v2/Getting-Started-Installing-Git). \n",
    "\n",
    "This task might not present completely accurate information depending on how you’ve connected your computer to GitHub.\n",
    "\n",
    "For more information on how to set up GitHub with SSH, have a look at the official documentation: [Connecting to GitHub with SSH](https://docs.github.com/en/authentication/connecting-to-github-with-ssh).\n"
   ]
  },
  {
   "cell_type": "markdown",
   "id": "929a9aa0",
   "metadata": {},
   "source": [
    "## Problem 2a\n",
    "- First, make a folder called `GitTutorial` and navigate to this folder via a terminal.\n",
    "- While inside this folder, use the command `git init` to initialize a local repository in that folder.\n",
    "- Verify that a repository has been made by running `git status`."
   ]
  },
  {
   "cell_type": "code",
   "execution_count": 182,
   "id": "b5c42374",
   "metadata": {},
   "outputs": [],
   "source": [
    "# Command-line code here (no need to write anything in Python)"
   ]
  },
  {
   "cell_type": "markdown",
   "id": "edc33445",
   "metadata": {},
   "source": [
    "## Problem 2b\n",
    "\n",
    "- Next, we’ll clone an existing repository from GitHub to your local repository. The repository we’ll clone is this: [FYS-2021](https://github.com/Seilmast/FYS-2021).\n",
    "- In the terminal, while still in the `GitTutorial` folder, use the `git clone` command and find the link on the GitHub page that references the online repository. This link is found by clicking the green \"Code\" button, and copying the HTTPS link. \n",
    "- This should now clone two files into your local repository."
   ]
  },
  {
   "cell_type": "code",
   "execution_count": 183,
   "id": "fc25f679",
   "metadata": {},
   "outputs": [],
   "source": [
    "# Command-line code here (no need to write anything in Python)"
   ]
  },
  {
   "cell_type": "markdown",
   "id": "f55f6af6",
   "metadata": {},
   "source": [
    "## Problem 2c\n",
    "\n",
    "Now you should have two files locally on your computer: `UploadThis.txt` and `DoNotUploadThis.txt`.\n",
    "   - We’ll first upload both these files to your remote repository. Follow these steps:\n",
    "     1. Go to your GitHub account and make a new repository. When you’ve made one, there should be a link to set up the remote connection. If not, find the SSH link under the big green \"Code\" button.\n",
    "     2. In your terminal, use the command `git remote <name> <link>` to link your remote and local repository. You can define the `<name>` yourself; it’ll be used to refer to the remote connection. The `<link>` should be the SSH link.\n",
    "     3. Next, push `UploadThis.txt` to your repository. First, use `git add <file>` to prepare the files to be pushed. You may use `git add .` to add all files in the folder, but for now, just add the one file manually.\n",
    "     4. Use `git commit -m <commit message>` to commit all the added files to be pushed. The `<commit message>` can be any string, but good form is to give a brief explanation of the changes made with the given commit.\n",
    "     5. Lastly, use `git push <name>` (where `<name>` is the remote name you defined earlier) to push the commit to GitHub. Both files should now be on your repository."
   ]
  },
  {
   "cell_type": "code",
   "execution_count": 184,
   "id": "5089603c",
   "metadata": {},
   "outputs": [],
   "source": [
    "# Command-line code here (no need to write anything in Python)"
   ]
  },
  {
   "cell_type": "markdown",
   "id": "a6860033",
   "metadata": {},
   "source": [
    "## Problem 2d\n",
    "\n",
    "Create a `.gitignore` file and add `DoNotUploadThis.txt` to it, then push the changes to your repository."
   ]
  },
  {
   "cell_type": "code",
   "execution_count": 185,
   "id": "7fc4ab70",
   "metadata": {},
   "outputs": [],
   "source": [
    "# Command-line code here (no need to write anything in Python)"
   ]
  },
  {
   "cell_type": "markdown",
   "id": "9a3c6988",
   "metadata": {},
   "source": [
    "# Problem 3\n",
    "\n",
    "\n",
    "Follow the notebook: https://github.com/udlbook/udlbook/blob/main/Notebooks/Chap01/1_1_BackgroundMathematics.ipynb. \n",
    "\n",
    "This is a complementary notebook for working with matrices and it prepares you for the next step when we see linear regression"
   ]
  },
  {
   "cell_type": "markdown",
   "id": "4affdf87",
   "metadata": {},
   "source": [
    "# Problem 4\n",
    "\n",
    "Follow the notebook: https://github.com/uitml/MLCourse2023/blob/main/code/NotebookTutorial.ipynb and try to understand each step. This is a simple notebook to refresh your Python skills about arrays and plotting."
   ]
  }
 ],
 "metadata": {
  "kernelspec": {
   "display_name": "Python 3",
   "language": "python",
   "name": "python3"
  },
  "language_info": {
   "codemirror_mode": {
    "name": "ipython",
    "version": 3
   },
   "file_extension": ".py",
   "mimetype": "text/x-python",
   "name": "python",
   "nbconvert_exporter": "python",
   "pygments_lexer": "ipython3",
   "version": "3.12.5"
  }
 },
 "nbformat": 4,
 "nbformat_minor": 5
}
